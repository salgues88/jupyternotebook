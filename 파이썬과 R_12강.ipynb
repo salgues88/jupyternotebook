{
 "cells": [
  {
   "cell_type": "code",
   "execution_count": 1,
   "id": "f8a45348",
   "metadata": {},
   "outputs": [],
   "source": [
    "import numpy as np\n",
    "import pandas as pd\n",
    "import matplotlib.pyplot as plt"
   ]
  },
  {
   "cell_type": "code",
   "execution_count": 4,
   "id": "7a6b8fd8",
   "metadata": {},
   "outputs": [],
   "source": [
    "# 기술통계 - Python\n",
    "### Python 1.1 기술통계(1)\n",
    "score = pd.read_csv(\"C:/data/score.csv\")"
   ]
  },
  {
   "cell_type": "code",
   "execution_count": 9,
   "id": "5489e2c4",
   "metadata": {},
   "outputs": [
    {
     "data": {
      "text/html": [
       "<div>\n",
       "<style scoped>\n",
       "    .dataframe tbody tr th:only-of-type {\n",
       "        vertical-align: middle;\n",
       "    }\n",
       "\n",
       "    .dataframe tbody tr th {\n",
       "        vertical-align: top;\n",
       "    }\n",
       "\n",
       "    .dataframe thead th {\n",
       "        text-align: right;\n",
       "    }\n",
       "</style>\n",
       "<table border=\"1\" class=\"dataframe\">\n",
       "  <thead>\n",
       "    <tr style=\"text-align: right;\">\n",
       "      <th></th>\n",
       "      <th>id</th>\n",
       "      <th>gender</th>\n",
       "      <th>midterm</th>\n",
       "      <th>final</th>\n",
       "    </tr>\n",
       "  </thead>\n",
       "  <tbody>\n",
       "    <tr>\n",
       "      <th>0</th>\n",
       "      <td>13001</td>\n",
       "      <td>f</td>\n",
       "      <td>60</td>\n",
       "      <td>80</td>\n",
       "    </tr>\n",
       "    <tr>\n",
       "      <th>1</th>\n",
       "      <td>13003</td>\n",
       "      <td>m</td>\n",
       "      <td>90</td>\n",
       "      <td>72</td>\n",
       "    </tr>\n",
       "    <tr>\n",
       "      <th>2</th>\n",
       "      <td>13013</td>\n",
       "      <td>m</td>\n",
       "      <td>76</td>\n",
       "      <td>85</td>\n",
       "    </tr>\n",
       "    <tr>\n",
       "      <th>3</th>\n",
       "      <td>13020</td>\n",
       "      <td>f</td>\n",
       "      <td>74</td>\n",
       "      <td>89</td>\n",
       "    </tr>\n",
       "    <tr>\n",
       "      <th>4</th>\n",
       "      <td>13041</td>\n",
       "      <td>f</td>\n",
       "      <td>50</td>\n",
       "      <td>53</td>\n",
       "    </tr>\n",
       "  </tbody>\n",
       "</table>\n",
       "</div>"
      ],
      "text/plain": [
       "      id gender  midterm  final\n",
       "0  13001      f       60     80\n",
       "1  13003      m       90     72\n",
       "2  13013      m       76     85\n",
       "3  13020      f       74     89\n",
       "4  13041      f       50     53"
      ]
     },
     "execution_count": 9,
     "metadata": {},
     "output_type": "execute_result"
    }
   ],
   "source": [
    "score.head()"
   ]
  },
  {
   "cell_type": "code",
   "execution_count": 11,
   "id": "3773b3e0",
   "metadata": {},
   "outputs": [
    {
     "data": {
      "text/plain": [
       "(89, 4)"
      ]
     },
     "execution_count": 11,
     "metadata": {},
     "output_type": "execute_result"
    }
   ],
   "source": [
    "score.shape"
   ]
  },
  {
   "cell_type": "code",
   "execution_count": 12,
   "id": "ef3ffded",
   "metadata": {},
   "outputs": [],
   "source": [
    "score[\"total\"] = score.midterm + score[\"final\"]"
   ]
  },
  {
   "cell_type": "code",
   "execution_count": 13,
   "id": "79f63c18",
   "metadata": {},
   "outputs": [
    {
     "data": {
      "text/html": [
       "<div>\n",
       "<style scoped>\n",
       "    .dataframe tbody tr th:only-of-type {\n",
       "        vertical-align: middle;\n",
       "    }\n",
       "\n",
       "    .dataframe tbody tr th {\n",
       "        vertical-align: top;\n",
       "    }\n",
       "\n",
       "    .dataframe thead th {\n",
       "        text-align: right;\n",
       "    }\n",
       "</style>\n",
       "<table border=\"1\" class=\"dataframe\">\n",
       "  <thead>\n",
       "    <tr style=\"text-align: right;\">\n",
       "      <th></th>\n",
       "      <th>id</th>\n",
       "      <th>gender</th>\n",
       "      <th>midterm</th>\n",
       "      <th>final</th>\n",
       "      <th>total</th>\n",
       "    </tr>\n",
       "  </thead>\n",
       "  <tbody>\n",
       "    <tr>\n",
       "      <th>0</th>\n",
       "      <td>13001</td>\n",
       "      <td>f</td>\n",
       "      <td>60</td>\n",
       "      <td>80</td>\n",
       "      <td>140</td>\n",
       "    </tr>\n",
       "    <tr>\n",
       "      <th>1</th>\n",
       "      <td>13003</td>\n",
       "      <td>m</td>\n",
       "      <td>90</td>\n",
       "      <td>72</td>\n",
       "      <td>162</td>\n",
       "    </tr>\n",
       "    <tr>\n",
       "      <th>2</th>\n",
       "      <td>13013</td>\n",
       "      <td>m</td>\n",
       "      <td>76</td>\n",
       "      <td>85</td>\n",
       "      <td>161</td>\n",
       "    </tr>\n",
       "  </tbody>\n",
       "</table>\n",
       "</div>"
      ],
      "text/plain": [
       "      id gender  midterm  final  total\n",
       "0  13001      f       60     80    140\n",
       "1  13003      m       90     72    162\n",
       "2  13013      m       76     85    161"
      ]
     },
     "execution_count": 13,
     "metadata": {},
     "output_type": "execute_result"
    }
   ],
   "source": [
    "score.head(3)"
   ]
  },
  {
   "cell_type": "code",
   "execution_count": 20,
   "id": "29a78aaa",
   "metadata": {},
   "outputs": [
    {
     "data": {
      "text/plain": [
       "122.65168539325843"
      ]
     },
     "execution_count": 20,
     "metadata": {},
     "output_type": "execute_result"
    }
   ],
   "source": [
    "score[\"total\"].mean()"
   ]
  },
  {
   "cell_type": "code",
   "execution_count": 21,
   "id": "4a5df22f",
   "metadata": {},
   "outputs": [
    {
     "data": {
      "text/plain": [
       "37.882324111407364"
      ]
     },
     "execution_count": 21,
     "metadata": {},
     "output_type": "execute_result"
    }
   ],
   "source": [
    "score[\"total\"].std()"
   ]
  },
  {
   "cell_type": "code",
   "execution_count": 22,
   "id": "dfa51e75",
   "metadata": {},
   "outputs": [
    {
     "data": {
      "text/plain": [
       "128.0"
      ]
     },
     "execution_count": 22,
     "metadata": {},
     "output_type": "execute_result"
    }
   ],
   "source": [
    "score[\"total\"].median()"
   ]
  },
  {
   "cell_type": "code",
   "execution_count": 36,
   "id": "346d8513",
   "metadata": {},
   "outputs": [
    {
     "data": {
      "text/plain": [
       "154.0"
      ]
     },
     "execution_count": 36,
     "metadata": {},
     "output_type": "execute_result"
    }
   ],
   "source": [
    "score[\"total\"].quantile(0.75)"
   ]
  },
  {
   "cell_type": "code",
   "execution_count": 25,
   "id": "cdc041ea",
   "metadata": {},
   "outputs": [],
   "source": [
    "### Python 1.2 기술통계 (2)\n",
    "score = pd.read_csv(\"C:/data/score.csv\")"
   ]
  },
  {
   "cell_type": "code",
   "execution_count": 26,
   "id": "b0002450",
   "metadata": {},
   "outputs": [],
   "source": [
    "score[\"total\"] = score[\"midterm\"] + score.final"
   ]
  },
  {
   "cell_type": "code",
   "execution_count": 27,
   "id": "9f2f68c9",
   "metadata": {},
   "outputs": [
    {
     "data": {
      "text/html": [
       "<div>\n",
       "<style scoped>\n",
       "    .dataframe tbody tr th:only-of-type {\n",
       "        vertical-align: middle;\n",
       "    }\n",
       "\n",
       "    .dataframe tbody tr th {\n",
       "        vertical-align: top;\n",
       "    }\n",
       "\n",
       "    .dataframe thead th {\n",
       "        text-align: right;\n",
       "    }\n",
       "</style>\n",
       "<table border=\"1\" class=\"dataframe\">\n",
       "  <thead>\n",
       "    <tr style=\"text-align: right;\">\n",
       "      <th></th>\n",
       "      <th>id</th>\n",
       "      <th>gender</th>\n",
       "      <th>midterm</th>\n",
       "      <th>final</th>\n",
       "      <th>total</th>\n",
       "    </tr>\n",
       "  </thead>\n",
       "  <tbody>\n",
       "    <tr>\n",
       "      <th>0</th>\n",
       "      <td>13001</td>\n",
       "      <td>f</td>\n",
       "      <td>60</td>\n",
       "      <td>80</td>\n",
       "      <td>140</td>\n",
       "    </tr>\n",
       "    <tr>\n",
       "      <th>1</th>\n",
       "      <td>13003</td>\n",
       "      <td>m</td>\n",
       "      <td>90</td>\n",
       "      <td>72</td>\n",
       "      <td>162</td>\n",
       "    </tr>\n",
       "    <tr>\n",
       "      <th>2</th>\n",
       "      <td>13013</td>\n",
       "      <td>m</td>\n",
       "      <td>76</td>\n",
       "      <td>85</td>\n",
       "      <td>161</td>\n",
       "    </tr>\n",
       "  </tbody>\n",
       "</table>\n",
       "</div>"
      ],
      "text/plain": [
       "      id gender  midterm  final  total\n",
       "0  13001      f       60     80    140\n",
       "1  13003      m       90     72    162\n",
       "2  13013      m       76     85    161"
      ]
     },
     "execution_count": 27,
     "metadata": {},
     "output_type": "execute_result"
    }
   ],
   "source": [
    "score.head(3)"
   ]
  },
  {
   "cell_type": "code",
   "execution_count": 28,
   "id": "7ef5c510",
   "metadata": {},
   "outputs": [],
   "source": [
    "import collections    # "
   ]
  },
  {
   "cell_type": "code",
   "execution_count": 29,
   "id": "f23735d1",
   "metadata": {},
   "outputs": [
    {
     "data": {
      "text/plain": [
       "Counter({'f': 35, 'm': 54})"
      ]
     },
     "execution_count": 29,
     "metadata": {},
     "output_type": "execute_result"
    }
   ],
   "source": [
    "collections.Counter(score[\"gender\"])"
   ]
  },
  {
   "cell_type": "code",
   "execution_count": 30,
   "id": "c60ac9ea",
   "metadata": {},
   "outputs": [],
   "source": [
    "cols = [\"midterm\", \"final\", \"total\"]"
   ]
  },
  {
   "cell_type": "code",
   "execution_count": 32,
   "id": "d10650ab",
   "metadata": {},
   "outputs": [],
   "source": [
    "score2 = score[cols]"
   ]
  },
  {
   "cell_type": "code",
   "execution_count": 33,
   "id": "f06b5492",
   "metadata": {},
   "outputs": [
    {
     "data": {
      "text/html": [
       "<div>\n",
       "<style scoped>\n",
       "    .dataframe tbody tr th:only-of-type {\n",
       "        vertical-align: middle;\n",
       "    }\n",
       "\n",
       "    .dataframe tbody tr th {\n",
       "        vertical-align: top;\n",
       "    }\n",
       "\n",
       "    .dataframe thead th {\n",
       "        text-align: right;\n",
       "    }\n",
       "</style>\n",
       "<table border=\"1\" class=\"dataframe\">\n",
       "  <thead>\n",
       "    <tr style=\"text-align: right;\">\n",
       "      <th></th>\n",
       "      <th>midterm</th>\n",
       "      <th>final</th>\n",
       "      <th>total</th>\n",
       "    </tr>\n",
       "  </thead>\n",
       "  <tbody>\n",
       "    <tr>\n",
       "      <th>0</th>\n",
       "      <td>60</td>\n",
       "      <td>80</td>\n",
       "      <td>140</td>\n",
       "    </tr>\n",
       "    <tr>\n",
       "      <th>1</th>\n",
       "      <td>90</td>\n",
       "      <td>72</td>\n",
       "      <td>162</td>\n",
       "    </tr>\n",
       "    <tr>\n",
       "      <th>2</th>\n",
       "      <td>76</td>\n",
       "      <td>85</td>\n",
       "      <td>161</td>\n",
       "    </tr>\n",
       "  </tbody>\n",
       "</table>\n",
       "</div>"
      ],
      "text/plain": [
       "   midterm  final  total\n",
       "0       60     80    140\n",
       "1       90     72    162\n",
       "2       76     85    161"
      ]
     },
     "execution_count": 33,
     "metadata": {},
     "output_type": "execute_result"
    }
   ],
   "source": [
    "score2.head(3)"
   ]
  },
  {
   "cell_type": "code",
   "execution_count": 34,
   "id": "ffd6ccdb",
   "metadata": {},
   "outputs": [
    {
     "data": {
      "text/plain": [
       "pandas.core.frame.DataFrame"
      ]
     },
     "execution_count": 34,
     "metadata": {},
     "output_type": "execute_result"
    }
   ],
   "source": [
    "type(score2)"
   ]
  },
  {
   "cell_type": "code",
   "execution_count": 35,
   "id": "29622baa",
   "metadata": {},
   "outputs": [
    {
     "data": {
      "text/html": [
       "<div>\n",
       "<style scoped>\n",
       "    .dataframe tbody tr th:only-of-type {\n",
       "        vertical-align: middle;\n",
       "    }\n",
       "\n",
       "    .dataframe tbody tr th {\n",
       "        vertical-align: top;\n",
       "    }\n",
       "\n",
       "    .dataframe thead th {\n",
       "        text-align: right;\n",
       "    }\n",
       "</style>\n",
       "<table border=\"1\" class=\"dataframe\">\n",
       "  <thead>\n",
       "    <tr style=\"text-align: right;\">\n",
       "      <th></th>\n",
       "      <th>midterm</th>\n",
       "      <th>final</th>\n",
       "      <th>total</th>\n",
       "    </tr>\n",
       "  </thead>\n",
       "  <tbody>\n",
       "    <tr>\n",
       "      <th>count</th>\n",
       "      <td>89.000000</td>\n",
       "      <td>89.000000</td>\n",
       "      <td>89.000000</td>\n",
       "    </tr>\n",
       "    <tr>\n",
       "      <th>mean</th>\n",
       "      <td>66.898876</td>\n",
       "      <td>55.752809</td>\n",
       "      <td>122.651685</td>\n",
       "    </tr>\n",
       "    <tr>\n",
       "      <th>std</th>\n",
       "      <td>19.060338</td>\n",
       "      <td>24.088040</td>\n",
       "      <td>37.882324</td>\n",
       "    </tr>\n",
       "    <tr>\n",
       "      <th>min</th>\n",
       "      <td>22.000000</td>\n",
       "      <td>0.000000</td>\n",
       "      <td>35.000000</td>\n",
       "    </tr>\n",
       "    <tr>\n",
       "      <th>25%</th>\n",
       "      <td>52.000000</td>\n",
       "      <td>40.000000</td>\n",
       "      <td>99.000000</td>\n",
       "    </tr>\n",
       "    <tr>\n",
       "      <th>50%</th>\n",
       "      <td>71.000000</td>\n",
       "      <td>55.000000</td>\n",
       "      <td>128.000000</td>\n",
       "    </tr>\n",
       "    <tr>\n",
       "      <th>75%</th>\n",
       "      <td>82.000000</td>\n",
       "      <td>75.000000</td>\n",
       "      <td>154.000000</td>\n",
       "    </tr>\n",
       "    <tr>\n",
       "      <th>max</th>\n",
       "      <td>100.000000</td>\n",
       "      <td>93.000000</td>\n",
       "      <td>193.000000</td>\n",
       "    </tr>\n",
       "  </tbody>\n",
       "</table>\n",
       "</div>"
      ],
      "text/plain": [
       "          midterm      final       total\n",
       "count   89.000000  89.000000   89.000000\n",
       "mean    66.898876  55.752809  122.651685\n",
       "std     19.060338  24.088040   37.882324\n",
       "min     22.000000   0.000000   35.000000\n",
       "25%     52.000000  40.000000   99.000000\n",
       "50%     71.000000  55.000000  128.000000\n",
       "75%     82.000000  75.000000  154.000000\n",
       "max    100.000000  93.000000  193.000000"
      ]
     },
     "execution_count": 35,
     "metadata": {},
     "output_type": "execute_result"
    }
   ],
   "source": [
    "score2.describe()"
   ]
  },
  {
   "cell_type": "code",
   "execution_count": 37,
   "id": "f9ba5576",
   "metadata": {},
   "outputs": [],
   "source": [
    "score22 = score.iloc[:, 2:5]"
   ]
  },
  {
   "cell_type": "code",
   "execution_count": 38,
   "id": "2f895400",
   "metadata": {},
   "outputs": [
    {
     "data": {
      "text/html": [
       "<div>\n",
       "<style scoped>\n",
       "    .dataframe tbody tr th:only-of-type {\n",
       "        vertical-align: middle;\n",
       "    }\n",
       "\n",
       "    .dataframe tbody tr th {\n",
       "        vertical-align: top;\n",
       "    }\n",
       "\n",
       "    .dataframe thead th {\n",
       "        text-align: right;\n",
       "    }\n",
       "</style>\n",
       "<table border=\"1\" class=\"dataframe\">\n",
       "  <thead>\n",
       "    <tr style=\"text-align: right;\">\n",
       "      <th></th>\n",
       "      <th>midterm</th>\n",
       "      <th>final</th>\n",
       "      <th>total</th>\n",
       "    </tr>\n",
       "  </thead>\n",
       "  <tbody>\n",
       "    <tr>\n",
       "      <th>0</th>\n",
       "      <td>60</td>\n",
       "      <td>80</td>\n",
       "      <td>140</td>\n",
       "    </tr>\n",
       "    <tr>\n",
       "      <th>1</th>\n",
       "      <td>90</td>\n",
       "      <td>72</td>\n",
       "      <td>162</td>\n",
       "    </tr>\n",
       "    <tr>\n",
       "      <th>2</th>\n",
       "      <td>76</td>\n",
       "      <td>85</td>\n",
       "      <td>161</td>\n",
       "    </tr>\n",
       "  </tbody>\n",
       "</table>\n",
       "</div>"
      ],
      "text/plain": [
       "   midterm  final  total\n",
       "0       60     80    140\n",
       "1       90     72    162\n",
       "2       76     85    161"
      ]
     },
     "execution_count": 38,
     "metadata": {},
     "output_type": "execute_result"
    }
   ],
   "source": [
    "score22.head(3)"
   ]
  },
  {
   "cell_type": "code",
   "execution_count": 39,
   "id": "274b573e",
   "metadata": {},
   "outputs": [
    {
     "data": {
      "text/plain": [
       "array([-0.40363253, -0.5141206 , -0.45632558])"
      ]
     },
     "execution_count": 39,
     "metadata": {},
     "output_type": "execute_result"
    }
   ],
   "source": [
    "from scipy.stats import skew\n",
    "skew(score2)"
   ]
  },
  {
   "cell_type": "code",
   "execution_count": 40,
   "id": "5817a397",
   "metadata": {},
   "outputs": [
    {
     "data": {
      "text/plain": [
       "array([-0.60237839, -0.4553289 , -0.64057126])"
      ]
     },
     "execution_count": 40,
     "metadata": {},
     "output_type": "execute_result"
    }
   ],
   "source": [
    "from scipy.stats import kurtosis\n",
    "kurtosis(score2)"
   ]
  },
  {
   "cell_type": "code",
   "execution_count": 41,
   "id": "86ac2e42",
   "metadata": {},
   "outputs": [],
   "source": [
    "# 그룹별 기술통계 - Python\n",
    "### Python 2.1 그룹별 기술통계(1)\n",
    "\n",
    "import pandas as pd\n",
    "\n",
    "score = pd.read_csv(\"C:/data/score.csv\")\n",
    "score[\"total\"] = score.midterm + score[\"final\"]"
   ]
  },
  {
   "cell_type": "code",
   "execution_count": 42,
   "id": "7160ec7a",
   "metadata": {},
   "outputs": [],
   "source": [
    "gstat = score.groupby(\"gender\")[\"total\"].describe()"
   ]
  },
  {
   "cell_type": "code",
   "execution_count": 44,
   "id": "49469102",
   "metadata": {},
   "outputs": [
    {
     "data": {
      "text/html": [
       "<div>\n",
       "<style scoped>\n",
       "    .dataframe tbody tr th:only-of-type {\n",
       "        vertical-align: middle;\n",
       "    }\n",
       "\n",
       "    .dataframe tbody tr th {\n",
       "        vertical-align: top;\n",
       "    }\n",
       "\n",
       "    .dataframe thead th {\n",
       "        text-align: right;\n",
       "    }\n",
       "</style>\n",
       "<table border=\"1\" class=\"dataframe\">\n",
       "  <thead>\n",
       "    <tr style=\"text-align: right;\">\n",
       "      <th></th>\n",
       "      <th>count</th>\n",
       "      <th>mean</th>\n",
       "      <th>std</th>\n",
       "      <th>min</th>\n",
       "      <th>25%</th>\n",
       "      <th>50%</th>\n",
       "      <th>75%</th>\n",
       "      <th>max</th>\n",
       "    </tr>\n",
       "    <tr>\n",
       "      <th>gender</th>\n",
       "      <th></th>\n",
       "      <th></th>\n",
       "      <th></th>\n",
       "      <th></th>\n",
       "      <th></th>\n",
       "      <th></th>\n",
       "      <th></th>\n",
       "      <th></th>\n",
       "    </tr>\n",
       "  </thead>\n",
       "  <tbody>\n",
       "    <tr>\n",
       "      <th>f</th>\n",
       "      <td>35.0</td>\n",
       "      <td>122.771429</td>\n",
       "      <td>34.295503</td>\n",
       "      <td>35.0</td>\n",
       "      <td>102.5</td>\n",
       "      <td>122.0</td>\n",
       "      <td>152.0</td>\n",
       "      <td>172.0</td>\n",
       "    </tr>\n",
       "    <tr>\n",
       "      <th>m</th>\n",
       "      <td>54.0</td>\n",
       "      <td>122.574074</td>\n",
       "      <td>40.351101</td>\n",
       "      <td>36.0</td>\n",
       "      <td>91.5</td>\n",
       "      <td>133.0</td>\n",
       "      <td>156.5</td>\n",
       "      <td>193.0</td>\n",
       "    </tr>\n",
       "  </tbody>\n",
       "</table>\n",
       "</div>"
      ],
      "text/plain": [
       "        count        mean        std   min    25%    50%    75%    max\n",
       "gender                                                                \n",
       "f        35.0  122.771429  34.295503  35.0  102.5  122.0  152.0  172.0\n",
       "m        54.0  122.574074  40.351101  36.0   91.5  133.0  156.5  193.0"
      ]
     },
     "execution_count": 44,
     "metadata": {},
     "output_type": "execute_result"
    }
   ],
   "source": [
    "gstat"
   ]
  },
  {
   "cell_type": "code",
   "execution_count": 45,
   "id": "aadf65d1",
   "metadata": {},
   "outputs": [
    {
     "data": {
      "text/plain": [
       "<bound method NDFrame._add_numeric_operations.<locals>.mean of         count        mean        std   min    25%    50%    75%    max\n",
       "gender                                                                \n",
       "f        35.0  122.771429  34.295503  35.0  102.5  122.0  152.0  172.0\n",
       "m        54.0  122.574074  40.351101  36.0   91.5  133.0  156.5  193.0>"
      ]
     },
     "execution_count": 45,
     "metadata": {},
     "output_type": "execute_result"
    }
   ],
   "source": [
    "gstat.mean"
   ]
  },
  {
   "cell_type": "code",
   "execution_count": 46,
   "id": "9d649b43",
   "metadata": {},
   "outputs": [
    {
     "data": {
      "text/plain": [
       "gender\n",
       "f    122.771429\n",
       "m    122.574074\n",
       "Name: mean, dtype: float64"
      ]
     },
     "execution_count": 46,
     "metadata": {},
     "output_type": "execute_result"
    }
   ],
   "source": [
    "gstat[\"mean\"]"
   ]
  },
  {
   "cell_type": "code",
   "execution_count": 47,
   "id": "4b4d26a3",
   "metadata": {},
   "outputs": [
    {
     "data": {
      "text/plain": [
       "gender\n",
       "f    34.295503\n",
       "m    40.351101\n",
       "Name: std, dtype: float64"
      ]
     },
     "execution_count": 47,
     "metadata": {},
     "output_type": "execute_result"
    }
   ],
   "source": [
    "gstat[\"std\"]"
   ]
  },
  {
   "cell_type": "code",
   "execution_count": 48,
   "id": "2ca52788",
   "metadata": {},
   "outputs": [
    {
     "data": {
      "text/plain": [
       "gender\n",
       "f    102.5\n",
       "m     91.5\n",
       "Name: 25%, dtype: float64"
      ]
     },
     "execution_count": 48,
     "metadata": {},
     "output_type": "execute_result"
    }
   ],
   "source": [
    "gstat[\"25%\"]"
   ]
  },
  {
   "cell_type": "code",
   "execution_count": 52,
   "id": "891ae110",
   "metadata": {},
   "outputs": [
    {
     "data": {
      "text/plain": [
       "gender\n",
       "f    122.0\n",
       "m    133.0\n",
       "Name: 50%, dtype: float64"
      ]
     },
     "execution_count": 52,
     "metadata": {},
     "output_type": "execute_result"
    }
   ],
   "source": [
    "gstat[\"50%\"]"
   ]
  },
  {
   "cell_type": "code",
   "execution_count": 54,
   "id": "06ffdcc6",
   "metadata": {},
   "outputs": [
    {
     "data": {
      "text/plain": [
       "gender\n",
       "f    152.0\n",
       "m    156.5\n",
       "Name: 75%, dtype: float64"
      ]
     },
     "execution_count": 54,
     "metadata": {},
     "output_type": "execute_result"
    }
   ],
   "source": [
    "gstat[\"75%\"]"
   ]
  },
  {
   "cell_type": "code",
   "execution_count": 58,
   "id": "076316f9",
   "metadata": {},
   "outputs": [],
   "source": [
    "### 그룹별 기술통계(2)\n",
    "\n",
    "import pandas as pd\n",
    "\n",
    "score = pd.read_csv(\"C:/data/score.csv\")\n",
    "score[\"total\"] = score.midterm + score[\"final\"]"
   ]
  },
  {
   "cell_type": "code",
   "execution_count": 59,
   "id": "ce4f9aa5",
   "metadata": {},
   "outputs": [],
   "source": [
    "gstat_total = score.groupby(\"gender\")[\"total\"]"
   ]
  },
  {
   "cell_type": "code",
   "execution_count": 60,
   "id": "b76b705c",
   "metadata": {},
   "outputs": [
    {
     "data": {
      "text/plain": [
       "0    140\n",
       "1    162\n",
       "2    161\n",
       "3    163\n",
       "4    103\n",
       "5    150\n",
       "Name: total, dtype: int64"
      ]
     },
     "execution_count": 60,
     "metadata": {},
     "output_type": "execute_result"
    }
   ],
   "source": [
    "gstat_total.head(3)"
   ]
  },
  {
   "cell_type": "code",
   "execution_count": 63,
   "id": "693eacb8",
   "metadata": {},
   "outputs": [
    {
     "data": {
      "text/html": [
       "<div>\n",
       "<style scoped>\n",
       "    .dataframe tbody tr th:only-of-type {\n",
       "        vertical-align: middle;\n",
       "    }\n",
       "\n",
       "    .dataframe tbody tr th {\n",
       "        vertical-align: top;\n",
       "    }\n",
       "\n",
       "    .dataframe thead th {\n",
       "        text-align: right;\n",
       "    }\n",
       "</style>\n",
       "<table border=\"1\" class=\"dataframe\">\n",
       "  <thead>\n",
       "    <tr style=\"text-align: right;\">\n",
       "      <th></th>\n",
       "      <th>size</th>\n",
       "      <th>mean</th>\n",
       "      <th>std</th>\n",
       "      <th>min</th>\n",
       "      <th>max</th>\n",
       "    </tr>\n",
       "    <tr>\n",
       "      <th>gender</th>\n",
       "      <th></th>\n",
       "      <th></th>\n",
       "      <th></th>\n",
       "      <th></th>\n",
       "      <th></th>\n",
       "    </tr>\n",
       "  </thead>\n",
       "  <tbody>\n",
       "    <tr>\n",
       "      <th>f</th>\n",
       "      <td>35</td>\n",
       "      <td>122.771429</td>\n",
       "      <td>34.295503</td>\n",
       "      <td>35</td>\n",
       "      <td>172</td>\n",
       "    </tr>\n",
       "    <tr>\n",
       "      <th>m</th>\n",
       "      <td>54</td>\n",
       "      <td>122.574074</td>\n",
       "      <td>40.351101</td>\n",
       "      <td>36</td>\n",
       "      <td>193</td>\n",
       "    </tr>\n",
       "  </tbody>\n",
       "</table>\n",
       "</div>"
      ],
      "text/plain": [
       "        size        mean        std  min  max\n",
       "gender                                       \n",
       "f         35  122.771429  34.295503   35  172\n",
       "m         54  122.574074  40.351101   36  193"
      ]
     },
     "execution_count": 63,
     "metadata": {},
     "output_type": "execute_result"
    }
   ],
   "source": [
    "# groupby로 정의된 total 변수를 agg 함수를 통해 그룹별 통계량을 DF로 저장\n",
    "gstat_total.agg([\"size\", \"mean\", \"std\", \"min\", \"max\"])"
   ]
  },
  {
   "cell_type": "code",
   "execution_count": 64,
   "id": "76827560",
   "metadata": {},
   "outputs": [],
   "source": [
    "gresult = gstat_total.agg([\"size\", \"mean\", \"std\", \"min\", \"max\"])"
   ]
  },
  {
   "cell_type": "code",
   "execution_count": 66,
   "id": "35e1b9d9",
   "metadata": {},
   "outputs": [
    {
     "data": {
      "text/plain": [
       "size     35.000000\n",
       "mean    122.771429\n",
       "std      34.295503\n",
       "min      35.000000\n",
       "max     172.000000\n",
       "Name: f, dtype: float64"
      ]
     },
     "execution_count": 66,
     "metadata": {},
     "output_type": "execute_result"
    }
   ],
   "source": [
    "# groupby 함수와 agg 함수를 통해 gender 변수값을 기준으로 \n",
    "# 그룹으로 저장된 total 변수값 중 f 값의 그룹별 통계량을 추출 \n",
    "gresult.loc[\"f\"]"
   ]
  },
  {
   "cell_type": "code",
   "execution_count": 68,
   "id": "12dfa6e1",
   "metadata": {},
   "outputs": [
    {
     "data": {
      "text/plain": [
       "size     54.000000\n",
       "mean    122.574074\n",
       "std      40.351101\n",
       "min      36.000000\n",
       "max     193.000000\n",
       "Name: m, dtype: float64"
      ]
     },
     "execution_count": 68,
     "metadata": {},
     "output_type": "execute_result"
    }
   ],
   "source": [
    "gresult.loc[\"m\"]"
   ]
  },
  {
   "cell_type": "code",
   "execution_count": 69,
   "id": "4584f0e0",
   "metadata": {},
   "outputs": [
    {
     "data": {
      "text/plain": [
       "pandas.core.series.Series"
      ]
     },
     "execution_count": 69,
     "metadata": {},
     "output_type": "execute_result"
    }
   ],
   "source": [
    "type(gresult.loc[\"m\"])"
   ]
  },
  {
   "cell_type": "code",
   "execution_count": 70,
   "id": "5054ad38",
   "metadata": {},
   "outputs": [
    {
     "name": "stdout",
     "output_type": "stream",
     "text": [
      "Collecting researchpy\n",
      "  Downloading researchpy-0.3.5-py3-none-any.whl (33 kB)\n",
      "Requirement already satisfied: numpy in c:\\users\\dream\\anaconda3\\lib\\site-packages (from researchpy) (1.21.5)\n",
      "Requirement already satisfied: statsmodels in c:\\users\\dream\\anaconda3\\lib\\site-packages (from researchpy) (0.13.2)\n",
      "Requirement already satisfied: pandas in c:\\users\\dream\\anaconda3\\lib\\site-packages (from researchpy) (1.4.2)\n",
      "Requirement already satisfied: scipy in c:\\users\\dream\\anaconda3\\lib\\site-packages (from researchpy) (1.7.3)\n",
      "Requirement already satisfied: patsy in c:\\users\\dream\\anaconda3\\lib\\site-packages (from researchpy) (0.5.2)\n",
      "Requirement already satisfied: pytz>=2020.1 in c:\\users\\dream\\anaconda3\\lib\\site-packages (from pandas->researchpy) (2021.3)\n",
      "Requirement already satisfied: python-dateutil>=2.8.1 in c:\\users\\dream\\anaconda3\\lib\\site-packages (from pandas->researchpy) (2.8.2)\n",
      "Requirement already satisfied: six>=1.5 in c:\\users\\dream\\anaconda3\\lib\\site-packages (from python-dateutil>=2.8.1->pandas->researchpy) (1.16.0)\n",
      "Requirement already satisfied: packaging>=21.3 in c:\\users\\dream\\anaconda3\\lib\\site-packages (from statsmodels->researchpy) (21.3)\n",
      "Requirement already satisfied: pyparsing!=3.0.5,>=2.0.2 in c:\\users\\dream\\anaconda3\\lib\\site-packages (from packaging>=21.3->statsmodels->researchpy) (3.0.4)\n",
      "Installing collected packages: researchpy\n",
      "Successfully installed researchpy-0.3.5\n",
      "Note: you may need to restart the kernel to use updated packages.\n"
     ]
    }
   ],
   "source": [
    "pip install researchpy"
   ]
  },
  {
   "cell_type": "code",
   "execution_count": 71,
   "id": "78d4e466",
   "metadata": {},
   "outputs": [],
   "source": [
    "### Python 2.3 그룹별 기술통계 : researchpy 모듈 이용\n",
    "\n",
    "import researchpy as rp\n",
    "import pandas as pd"
   ]
  },
  {
   "cell_type": "code",
   "execution_count": 72,
   "id": "3b88db0c",
   "metadata": {},
   "outputs": [],
   "source": [
    "score = pd.read_csv(\"C:/data/score.csv\")\n",
    "score[\"total\"] = score.midterm + score[\"final\"]"
   ]
  },
  {
   "cell_type": "code",
   "execution_count": 73,
   "id": "3e26a189",
   "metadata": {},
   "outputs": [
    {
     "name": "stdout",
     "output_type": "stream",
     "text": [
      "\n",
      "\n"
     ]
    },
    {
     "data": {
      "text/html": [
       "<div>\n",
       "<style scoped>\n",
       "    .dataframe tbody tr th:only-of-type {\n",
       "        vertical-align: middle;\n",
       "    }\n",
       "\n",
       "    .dataframe tbody tr th {\n",
       "        vertical-align: top;\n",
       "    }\n",
       "\n",
       "    .dataframe thead th {\n",
       "        text-align: right;\n",
       "    }\n",
       "</style>\n",
       "<table border=\"1\" class=\"dataframe\">\n",
       "  <thead>\n",
       "    <tr style=\"text-align: right;\">\n",
       "      <th></th>\n",
       "      <th>Variable</th>\n",
       "      <th>N</th>\n",
       "      <th>Mean</th>\n",
       "      <th>SD</th>\n",
       "      <th>SE</th>\n",
       "      <th>95% Conf.</th>\n",
       "      <th>Interval</th>\n",
       "    </tr>\n",
       "  </thead>\n",
       "  <tbody>\n",
       "    <tr>\n",
       "      <th>0</th>\n",
       "      <td>total</td>\n",
       "      <td>89.0</td>\n",
       "      <td>122.6517</td>\n",
       "      <td>37.8823</td>\n",
       "      <td>4.0155</td>\n",
       "      <td>114.6717</td>\n",
       "      <td>130.6317</td>\n",
       "    </tr>\n",
       "  </tbody>\n",
       "</table>\n",
       "</div>"
      ],
      "text/plain": [
       "  Variable     N      Mean       SD      SE  95% Conf.  Interval\n",
       "0    total  89.0  122.6517  37.8823  4.0155   114.6717  130.6317"
      ]
     },
     "execution_count": 73,
     "metadata": {},
     "output_type": "execute_result"
    }
   ],
   "source": [
    "rp.summary_cont(score[\"total\"])"
   ]
  },
  {
   "cell_type": "code",
   "execution_count": 74,
   "id": "9e0450b8",
   "metadata": {},
   "outputs": [
    {
     "name": "stdout",
     "output_type": "stream",
     "text": [
      "\n",
      "\n"
     ]
    },
    {
     "data": {
      "text/html": [
       "<div>\n",
       "<style scoped>\n",
       "    .dataframe tbody tr th:only-of-type {\n",
       "        vertical-align: middle;\n",
       "    }\n",
       "\n",
       "    .dataframe tbody tr th {\n",
       "        vertical-align: top;\n",
       "    }\n",
       "\n",
       "    .dataframe thead th {\n",
       "        text-align: right;\n",
       "    }\n",
       "</style>\n",
       "<table border=\"1\" class=\"dataframe\">\n",
       "  <thead>\n",
       "    <tr style=\"text-align: right;\">\n",
       "      <th></th>\n",
       "      <th>N</th>\n",
       "      <th>Mean</th>\n",
       "      <th>SD</th>\n",
       "      <th>SE</th>\n",
       "      <th>95% Conf.</th>\n",
       "      <th>Interval</th>\n",
       "    </tr>\n",
       "    <tr>\n",
       "      <th>gender</th>\n",
       "      <th></th>\n",
       "      <th></th>\n",
       "      <th></th>\n",
       "      <th></th>\n",
       "      <th></th>\n",
       "      <th></th>\n",
       "    </tr>\n",
       "  </thead>\n",
       "  <tbody>\n",
       "    <tr>\n",
       "      <th>f</th>\n",
       "      <td>35</td>\n",
       "      <td>122.7714</td>\n",
       "      <td>34.2955</td>\n",
       "      <td>5.7970</td>\n",
       "      <td>110.9905</td>\n",
       "      <td>134.5523</td>\n",
       "    </tr>\n",
       "    <tr>\n",
       "      <th>m</th>\n",
       "      <td>54</td>\n",
       "      <td>122.5741</td>\n",
       "      <td>40.3511</td>\n",
       "      <td>5.4911</td>\n",
       "      <td>111.5603</td>\n",
       "      <td>133.5878</td>\n",
       "    </tr>\n",
       "  </tbody>\n",
       "</table>\n",
       "</div>"
      ],
      "text/plain": [
       "         N      Mean       SD      SE  95% Conf.  Interval\n",
       "gender                                                    \n",
       "f       35  122.7714  34.2955  5.7970   110.9905  134.5523\n",
       "m       54  122.5741  40.3511  5.4911   111.5603  133.5878"
      ]
     },
     "execution_count": 74,
     "metadata": {},
     "output_type": "execute_result"
    }
   ],
   "source": [
    "rp.summary_cont(score.groupby(\"gender\")[\"total\"])"
   ]
  },
  {
   "cell_type": "code",
   "execution_count": 77,
   "id": "6b2e306a",
   "metadata": {},
   "outputs": [
    {
     "name": "stdout",
     "output_type": "stream",
     "text": [
      "\n",
      "\n"
     ]
    },
    {
     "data": {
      "text/plain": [
       "gender\n",
       "f    122.7714\n",
       "m    122.5741\n",
       "Name: Mean, dtype: float64"
      ]
     },
     "execution_count": 77,
     "metadata": {},
     "output_type": "execute_result"
    }
   ],
   "source": [
    "a = rp.summary_cont(score.groupby(\"gender\")[\"total\"])\n",
    "a[\"Mean\"]"
   ]
  },
  {
   "cell_type": "code",
   "execution_count": 82,
   "id": "5bf80f29",
   "metadata": {},
   "outputs": [],
   "source": [
    "### Python 3.1 줄기-잎 그림"
   ]
  },
  {
   "cell_type": "code",
   "execution_count": 84,
   "id": "742af029",
   "metadata": {},
   "outputs": [
    {
     "name": "stdout",
     "output_type": "stream",
     "text": [
      "Requirement already satisfied: stemgraphic in c:\\users\\dream\\anaconda3\\lib\\site-packages (0.9.1)\n",
      "Requirement already satisfied: seaborn in c:\\users\\dream\\anaconda3\\lib\\site-packages (from stemgraphic) (0.11.2)\n",
      "Requirement already satisfied: matplotlib in c:\\users\\dream\\anaconda3\\lib\\site-packages (from stemgraphic) (3.5.1)\n",
      "Requirement already satisfied: pandas in c:\\users\\dream\\anaconda3\\lib\\site-packages (from stemgraphic) (1.4.2)\n",
      "Requirement already satisfied: docopt in c:\\users\\dream\\anaconda3\\lib\\site-packages (from stemgraphic) (0.6.2)\n",
      "Requirement already satisfied: cycler>=0.10 in c:\\users\\dream\\anaconda3\\lib\\site-packages (from matplotlib->stemgraphic) (0.11.0)\n",
      "Requirement already satisfied: packaging>=20.0 in c:\\users\\dream\\anaconda3\\lib\\site-packages (from matplotlib->stemgraphic) (21.3)\n",
      "Requirement already satisfied: pyparsing>=2.2.1 in c:\\users\\dream\\anaconda3\\lib\\site-packages (from matplotlib->stemgraphic) (3.0.4)\n",
      "Requirement already satisfied: pillow>=6.2.0 in c:\\users\\dream\\anaconda3\\lib\\site-packages (from matplotlib->stemgraphic) (9.0.1)\n",
      "Requirement already satisfied: python-dateutil>=2.7 in c:\\users\\dream\\anaconda3\\lib\\site-packages (from matplotlib->stemgraphic) (2.8.2)\n",
      "Requirement already satisfied: fonttools>=4.22.0 in c:\\users\\dream\\anaconda3\\lib\\site-packages (from matplotlib->stemgraphic) (4.25.0)\n",
      "Requirement already satisfied: kiwisolver>=1.0.1 in c:\\users\\dream\\anaconda3\\lib\\site-packages (from matplotlib->stemgraphic) (1.3.2)\n",
      "Requirement already satisfied: numpy>=1.17 in c:\\users\\dream\\anaconda3\\lib\\site-packages (from matplotlib->stemgraphic) (1.21.5)\n",
      "Requirement already satisfied: six>=1.5 in c:\\users\\dream\\anaconda3\\lib\\site-packages (from python-dateutil>=2.7->matplotlib->stemgraphic) (1.16.0)\n",
      "Requirement already satisfied: pytz>=2020.1 in c:\\users\\dream\\anaconda3\\lib\\site-packages (from pandas->stemgraphic) (2021.3)\n",
      "Requirement already satisfied: scipy>=1.0 in c:\\users\\dream\\anaconda3\\lib\\site-packages (from seaborn->stemgraphic) (1.7.3)\n",
      "Note: you may need to restart the kernel to use updated packages.\n"
     ]
    }
   ],
   "source": [
    "pip install stemgraphic"
   ]
  },
  {
   "cell_type": "code",
   "execution_count": 85,
   "id": "d51ffda8",
   "metadata": {},
   "outputs": [],
   "source": [
    "import pandas as pd\n",
    "import stemgraphic"
   ]
  },
  {
   "cell_type": "code",
   "execution_count": 86,
   "id": "b1db2750",
   "metadata": {},
   "outputs": [],
   "source": [
    "score = pd.read_csv(\"C:/data/score.csv\")\n",
    "score[\"total\"] = score.midterm + score[\"final\"]"
   ]
  },
  {
   "cell_type": "code",
   "execution_count": 87,
   "id": "e0834239",
   "metadata": {},
   "outputs": [
    {
     "data": {
      "text/plain": [
       "(<Figure size 540x360 with 1 Axes>, <Axes:>)"
      ]
     },
     "execution_count": 87,
     "metadata": {},
     "output_type": "execute_result"
    },
    {
     "data": {
      "image/png": "[encoded data removed]",
      "text/plain": [
       "<Figure size 540x360 with 1 Axes>"
      ]
     },
     "metadata": {
      "needs_background": "light"
     },
     "output_type": "display_data"
    }
   ],
   "source": [
    "stemgraphic.stem_graphic(score.total, scale=10)"
   ]
  },
  {
   "cell_type": "code",
   "execution_count": 88,
   "id": "67a11145",
   "metadata": {},
   "outputs": [],
   "source": [
    "### Python 3.2 상자그림\n",
    "\n",
    "import seaborn as sns\n",
    "import pandas as pd"
   ]
  },
  {
   "cell_type": "code",
   "execution_count": 89,
   "id": "59513f76",
   "metadata": {},
   "outputs": [],
   "source": [
    "score = pd.read_csv(\"C:/data/score.csv\")\n",
    "score[\"total\"] = score.midterm + score[\"final\"]"
   ]
  },
  {
   "cell_type": "code",
   "execution_count": 102,
   "id": "0c3d63dc",
   "metadata": {},
   "outputs": [
    {
     "data": {
      "text/plain": [
       "<AxesSubplot:ylabel='total'>"
      ]
     },
     "execution_count": 102,
     "metadata": {},
     "output_type": "execute_result"
    },
    {
     "data": {
      "image/png": "[encoded data removed]",
      "text/plain": [
       "<Figure size 432x288 with 1 Axes>"
      ]
     },
     "metadata": {},
     "output_type": "display_data"
    }
   ],
   "source": [
    "sns.set_style(\"white\")\n",
    "sns.boxplot(y=\"total\", data=score)"
   ]
  },
  {
   "cell_type": "code",
   "execution_count": 103,
   "id": "57b10073",
   "metadata": {},
   "outputs": [
    {
     "data": {
      "text/plain": [
       "<AxesSubplot:xlabel='total'>"
      ]
     },
     "execution_count": 103,
     "metadata": {},
     "output_type": "execute_result"
    },
    {
     "data": {
      "image/png": "[encoded data removed]",
      "text/plain": [
       "<Figure size 432x288 with 1 Axes>"
      ]
     },
     "metadata": {},
     "output_type": "display_data"
    }
   ],
   "source": [
    "sns.set(style=\"whitegrid\")\n",
    "sns.boxplot(x=\"total\", data=score)"
   ]
  },
  {
   "cell_type": "code",
   "execution_count": 105,
   "id": "120681ac",
   "metadata": {},
   "outputs": [
    {
     "data": {
      "image/png": "[encoded data removed]",
      "text/plain": [
       "<Figure size 432x288 with 1 Axes>"
      ]
     },
     "metadata": {},
     "output_type": "display_data"
    }
   ],
   "source": [
    "scorebox2 = sns.boxplot(x=\"total\", y=\"gender\", data=score)"
   ]
  },
  {
   "cell_type": "code",
   "execution_count": 106,
   "id": "7e24a803",
   "metadata": {},
   "outputs": [
    {
     "data": {
      "image/png": "[encoded data removed]",
      "text/plain": [
       "<Figure size 432x288 with 1 Axes>"
      ]
     },
     "metadata": {},
     "output_type": "display_data"
    }
   ],
   "source": [
    "scorebox = sns.boxplot(x=\"gender\", y=\"total\", data=score)"
   ]
  },
  {
   "cell_type": "code",
   "execution_count": 107,
   "id": "e16a13f4",
   "metadata": {},
   "outputs": [],
   "source": [
    "### Python 3.3 히스토그램\n",
    "\n",
    "import pandas as pd\n",
    "import seaborn as sns\n",
    "import matplotlib.pyplot as plt"
   ]
  },
  {
   "cell_type": "code",
   "execution_count": 108,
   "id": "7f03bebe",
   "metadata": {},
   "outputs": [],
   "source": [
    "score = pd.read_csv(\"C:/data/score.csv\")\n",
    "score[\"total\"] = score.midterm + score[\"final\"]"
   ]
  },
  {
   "cell_type": "code",
   "execution_count": 109,
   "id": "aa20a6e7",
   "metadata": {},
   "outputs": [
    {
     "data": {
      "text/plain": [
       "(array([ 3.,  7.,  6.,  6., 13., 11., 12., 16., 13.,  2.]),\n",
       " array([ 35. ,  50.8,  66.6,  82.4,  98.2, 114. , 129.8, 145.6, 161.4,\n",
       "        177.2, 193. ]),\n",
       " <BarContainer object of 10 artists>)"
      ]
     },
     "execution_count": 109,
     "metadata": {},
     "output_type": "execute_result"
    },
    {
     "data": {
      "image/png": "[encoded data removed]",
      "text/plain": [
       "<Figure size 432x288 with 1 Axes>"
      ]
     },
     "metadata": {},
     "output_type": "display_data"
    }
   ],
   "source": [
    "plt.hist(score[\"total\"])"
   ]
  },
  {
   "cell_type": "code",
   "execution_count": 118,
   "id": "d7e18892",
   "metadata": {},
   "outputs": [],
   "source": [
    "# 2개의 히스토그램 겹쳐 그리기\n",
    "\n",
    "ftotal = score.loc[score[\"gender\"] == \"f\", \"total\"]\n",
    "mtotal = score.loc[score.gender == \"m\", \"total\"]"
   ]
  },
  {
   "cell_type": "code",
   "execution_count": 119,
   "id": "7ddcddca",
   "metadata": {},
   "outputs": [],
   "source": [
    "args = dict(alpha=0.5, bins=10)"
   ]
  },
  {
   "cell_type": "code",
   "execution_count": 121,
   "id": "b088d9cd",
   "metadata": {},
   "outputs": [
    {
     "data": {
      "text/plain": [
       "(array([1., 1., 2., 1., 5., 5., 5., 3., 7., 5.]),\n",
       " array([ 35. ,  48.7,  62.4,  76.1,  89.8, 103.5, 117.2, 130.9, 144.6,\n",
       "        158.3, 172. ]),\n",
       " <BarContainer object of 10 artists>)"
      ]
     },
     "execution_count": 121,
     "metadata": {},
     "output_type": "execute_result"
    },
    {
     "data": {
      "image/png": "[encoded data removed]",
      "text/plain": [
       "<Figure size 432x288 with 1 Axes>"
      ]
     },
     "metadata": {},
     "output_type": "display_data"
    }
   ],
   "source": [
    "plt.hist(ftotal, **args, color=\"b\", label=\"female\")"
   ]
  },
  {
   "cell_type": "code",
   "execution_count": 131,
   "id": "ea79510c",
   "metadata": {},
   "outputs": [
    {
     "data": {
      "image/png": "[encoded data removed]",
      "text/plain": [
       "<Figure size 432x288 with 1 Axes>"
      ]
     },
     "metadata": {},
     "output_type": "display_data"
    }
   ],
   "source": [
    "plt.hist(ftotal, **args, color=\"b\", label=\"female\")\n",
    "plt.hist(mtotal, alpha=0.3, bins=10, color=\"r\", label = \"male\")\n",
    "\n",
    "plt.gca().set(title=\"Frequency Histogram of Score.total\", ylabel=\"Frequency\")\n",
    "plt.legend()\n",
    "plt.show()"
   ]
  },
  {
   "cell_type": "code",
   "execution_count": 135,
   "id": "dcbb2afa",
   "metadata": {},
   "outputs": [],
   "source": [
    "### Python 4.1 빈도표 및 분할표 (1)\n",
    "\n",
    "import pandas as pd\n",
    "import numpy as np\n",
    "import matplotlib.pyplot as plt"
   ]
  },
  {
   "cell_type": "code",
   "execution_count": 137,
   "id": "cb5df428",
   "metadata": {},
   "outputs": [
    {
     "data": {
      "text/html": [
       "<div>\n",
       "<style scoped>\n",
       "    .dataframe tbody tr th:only-of-type {\n",
       "        vertical-align: middle;\n",
       "    }\n",
       "\n",
       "    .dataframe tbody tr th {\n",
       "        vertical-align: top;\n",
       "    }\n",
       "\n",
       "    .dataframe thead th {\n",
       "        text-align: right;\n",
       "    }\n",
       "</style>\n",
       "<table border=\"1\" class=\"dataframe\">\n",
       "  <thead>\n",
       "    <tr style=\"text-align: right;\">\n",
       "      <th></th>\n",
       "      <th>college</th>\n",
       "      <th>grade</th>\n",
       "      <th>q1</th>\n",
       "      <th>q2</th>\n",
       "    </tr>\n",
       "  </thead>\n",
       "  <tbody>\n",
       "    <tr>\n",
       "      <th>0</th>\n",
       "      <td>med</td>\n",
       "      <td>1</td>\n",
       "      <td>1.0</td>\n",
       "      <td>1</td>\n",
       "    </tr>\n",
       "    <tr>\n",
       "      <th>1</th>\n",
       "      <td>med</td>\n",
       "      <td>1</td>\n",
       "      <td>1.0</td>\n",
       "      <td>1</td>\n",
       "    </tr>\n",
       "    <tr>\n",
       "      <th>2</th>\n",
       "      <td>med</td>\n",
       "      <td>1</td>\n",
       "      <td>1.0</td>\n",
       "      <td>1</td>\n",
       "    </tr>\n",
       "  </tbody>\n",
       "</table>\n",
       "</div>"
      ],
      "text/plain": [
       "  college  grade   q1  q2\n",
       "0     med      1  1.0   1\n",
       "1     med      1  1.0   1\n",
       "2     med      1  1.0   1"
      ]
     },
     "execution_count": 137,
     "metadata": {},
     "output_type": "execute_result"
    }
   ],
   "source": [
    "enqete = pd.read_csv(\"C:\\\\data\\\\enqete.csv\")\n",
    "enqete.head(3)"
   ]
  },
  {
   "cell_type": "code",
   "execution_count": 141,
   "id": "3a811c27",
   "metadata": {},
   "outputs": [],
   "source": [
    "enqete_table = pd.crosstab(index=enqete[\"grade\"], colnames=[\"Grade\"], columns=\"count\")"
   ]
  },
  {
   "cell_type": "code",
   "execution_count": 144,
   "id": "a835073f",
   "metadata": {},
   "outputs": [
    {
     "data": {
      "text/html": [
       "<div>\n",
       "<style scoped>\n",
       "    .dataframe tbody tr th:only-of-type {\n",
       "        vertical-align: middle;\n",
       "    }\n",
       "\n",
       "    .dataframe tbody tr th {\n",
       "        vertical-align: top;\n",
       "    }\n",
       "\n",
       "    .dataframe thead th {\n",
       "        text-align: right;\n",
       "    }\n",
       "</style>\n",
       "<table border=\"1\" class=\"dataframe\">\n",
       "  <thead>\n",
       "    <tr style=\"text-align: right;\">\n",
       "      <th>Grade</th>\n",
       "      <th>count</th>\n",
       "    </tr>\n",
       "    <tr>\n",
       "      <th>grade</th>\n",
       "      <th></th>\n",
       "    </tr>\n",
       "  </thead>\n",
       "  <tbody>\n",
       "    <tr>\n",
       "      <th>1</th>\n",
       "      <td>103</td>\n",
       "    </tr>\n",
       "    <tr>\n",
       "      <th>2</th>\n",
       "      <td>103</td>\n",
       "    </tr>\n",
       "    <tr>\n",
       "      <th>3</th>\n",
       "      <td>100</td>\n",
       "    </tr>\n",
       "    <tr>\n",
       "      <th>4</th>\n",
       "      <td>94</td>\n",
       "    </tr>\n",
       "  </tbody>\n",
       "</table>\n",
       "</div>"
      ],
      "text/plain": [
       "Grade  count\n",
       "grade       \n",
       "1        103\n",
       "2        103\n",
       "3        100\n",
       "4         94"
      ]
     },
     "execution_count": 144,
     "metadata": {},
     "output_type": "execute_result"
    }
   ],
   "source": [
    "enqete_table"
   ]
  },
  {
   "cell_type": "code",
   "execution_count": 146,
   "id": "216ea576",
   "metadata": {},
   "outputs": [
    {
     "data": {
      "text/html": [
       "<div>\n",
       "<style scoped>\n",
       "    .dataframe tbody tr th:only-of-type {\n",
       "        vertical-align: middle;\n",
       "    }\n",
       "\n",
       "    .dataframe tbody tr th {\n",
       "        vertical-align: top;\n",
       "    }\n",
       "\n",
       "    .dataframe thead th {\n",
       "        text-align: right;\n",
       "    }\n",
       "</style>\n",
       "<table border=\"1\" class=\"dataframe\">\n",
       "  <thead>\n",
       "    <tr style=\"text-align: right;\">\n",
       "      <th>Grade</th>\n",
       "      <th>count</th>\n",
       "    </tr>\n",
       "  </thead>\n",
       "  <tbody>\n",
       "    <tr>\n",
       "      <th>1학년</th>\n",
       "      <td>103</td>\n",
       "    </tr>\n",
       "    <tr>\n",
       "      <th>2학년</th>\n",
       "      <td>103</td>\n",
       "    </tr>\n",
       "    <tr>\n",
       "      <th>3학년</th>\n",
       "      <td>100</td>\n",
       "    </tr>\n",
       "    <tr>\n",
       "      <th>4학년</th>\n",
       "      <td>94</td>\n",
       "    </tr>\n",
       "  </tbody>\n",
       "</table>\n",
       "</div>"
      ],
      "text/plain": [
       "Grade  count\n",
       "1학년      103\n",
       "2학년      103\n",
       "3학년      100\n",
       "4학년       94"
      ]
     },
     "execution_count": 146,
     "metadata": {},
     "output_type": "execute_result"
    }
   ],
   "source": [
    "enqete_table.index = [\"1학년\", \"2학년\", \"3학년\", \"4학년\"]\n",
    "enqete_table"
   ]
  },
  {
   "cell_type": "code",
   "execution_count": 147,
   "id": "bce523f6",
   "metadata": {},
   "outputs": [],
   "source": [
    "### Python 4.2  빈도표 및 분할표 (2)\n",
    "\n",
    "import pandas as pd\n",
    "import numpy as np"
   ]
  },
  {
   "cell_type": "code",
   "execution_count": 149,
   "id": "bed2d6bc",
   "metadata": {},
   "outputs": [
    {
     "data": {
      "text/html": [
       "<div>\n",
       "<style scoped>\n",
       "    .dataframe tbody tr th:only-of-type {\n",
       "        vertical-align: middle;\n",
       "    }\n",
       "\n",
       "    .dataframe tbody tr th {\n",
       "        vertical-align: top;\n",
       "    }\n",
       "\n",
       "    .dataframe thead th {\n",
       "        text-align: right;\n",
       "    }\n",
       "</style>\n",
       "<table border=\"1\" class=\"dataframe\">\n",
       "  <thead>\n",
       "    <tr style=\"text-align: right;\">\n",
       "      <th>q1</th>\n",
       "      <th>0.0</th>\n",
       "      <th>1.0</th>\n",
       "      <th>2.0</th>\n",
       "    </tr>\n",
       "  </thead>\n",
       "  <tbody>\n",
       "    <tr>\n",
       "      <th>1학년</th>\n",
       "      <td>0</td>\n",
       "      <td>80</td>\n",
       "      <td>23</td>\n",
       "    </tr>\n",
       "    <tr>\n",
       "      <th>2학년</th>\n",
       "      <td>0</td>\n",
       "      <td>66</td>\n",
       "      <td>37</td>\n",
       "    </tr>\n",
       "    <tr>\n",
       "      <th>3학년</th>\n",
       "      <td>0</td>\n",
       "      <td>55</td>\n",
       "      <td>44</td>\n",
       "    </tr>\n",
       "    <tr>\n",
       "      <th>4학년</th>\n",
       "      <td>1</td>\n",
       "      <td>55</td>\n",
       "      <td>38</td>\n",
       "    </tr>\n",
       "  </tbody>\n",
       "</table>\n",
       "</div>"
      ],
      "text/plain": [
       "q1   0.0  1.0  2.0\n",
       "1학년    0   80   23\n",
       "2학년    0   66   37\n",
       "3학년    0   55   44\n",
       "4학년    1   55   38"
      ]
     },
     "execution_count": 149,
     "metadata": {},
     "output_type": "execute_result"
    }
   ],
   "source": [
    "grade_q1 = pd.crosstab(index=enqete[\"grade\"], columns=enqete[\"q1\"])\n",
    "grade_q1.index = [\"1학년\", \"2학년\", \"3학년\", \"4학년\"]\n",
    "grade_q1"
   ]
  },
  {
   "cell_type": "code",
   "execution_count": 155,
   "id": "02b05c83",
   "metadata": {},
   "outputs": [],
   "source": [
    "enqete[\"q1\"] = enqete[\"q1\"].replace(0, np.NaN)"
   ]
  },
  {
   "cell_type": "code",
   "execution_count": 157,
   "id": "aacdb3f8",
   "metadata": {},
   "outputs": [
    {
     "data": {
      "text/html": [
       "<div>\n",
       "<style scoped>\n",
       "    .dataframe tbody tr th:only-of-type {\n",
       "        vertical-align: middle;\n",
       "    }\n",
       "\n",
       "    .dataframe tbody tr th {\n",
       "        vertical-align: top;\n",
       "    }\n",
       "\n",
       "    .dataframe thead th {\n",
       "        text-align: right;\n",
       "    }\n",
       "</style>\n",
       "<table border=\"1\" class=\"dataframe\">\n",
       "  <thead>\n",
       "    <tr style=\"text-align: right;\">\n",
       "      <th>q1</th>\n",
       "      <th>1.0</th>\n",
       "      <th>2.0</th>\n",
       "    </tr>\n",
       "  </thead>\n",
       "  <tbody>\n",
       "    <tr>\n",
       "      <th>1학년</th>\n",
       "      <td>80</td>\n",
       "      <td>23</td>\n",
       "    </tr>\n",
       "    <tr>\n",
       "      <th>2학년</th>\n",
       "      <td>66</td>\n",
       "      <td>37</td>\n",
       "    </tr>\n",
       "    <tr>\n",
       "      <th>3학년</th>\n",
       "      <td>55</td>\n",
       "      <td>44</td>\n",
       "    </tr>\n",
       "    <tr>\n",
       "      <th>4학년</th>\n",
       "      <td>55</td>\n",
       "      <td>38</td>\n",
       "    </tr>\n",
       "  </tbody>\n",
       "</table>\n",
       "</div>"
      ],
      "text/plain": [
       "q1   1.0  2.0\n",
       "1학년   80   23\n",
       "2학년   66   37\n",
       "3학년   55   44\n",
       "4학년   55   38"
      ]
     },
     "execution_count": 157,
     "metadata": {},
     "output_type": "execute_result"
    }
   ],
   "source": [
    "grade_q1 = pd.crosstab(index=enqete[\"grade\"], columns=enqete[\"q1\"])\n",
    "grade_q1.index = [\"1학년\", \"2학년\", \"3학년\", \"4학년\"]\n",
    "grade_q1"
   ]
  },
  {
   "cell_type": "code",
   "execution_count": 158,
   "id": "93946435",
   "metadata": {},
   "outputs": [],
   "source": [
    "from scipy.stats import chi2_contingency"
   ]
  },
  {
   "cell_type": "code",
   "execution_count": 160,
   "id": "4d5ceb23",
   "metadata": {},
   "outputs": [
    {
     "data": {
      "text/plain": [
       "(12.402787258488466,\n",
       " 0.0061233649734963305,\n",
       " 3,\n",
       " array([[66.25125628, 36.74874372],\n",
       "        [66.25125628, 36.74874372],\n",
       "        [63.67839196, 35.32160804],\n",
       "        [59.81909548, 33.18090452]]))"
      ]
     },
     "execution_count": 160,
     "metadata": {},
     "output_type": "execute_result"
    }
   ],
   "source": [
    "chi2_contingency(grade_q1)    # 카이제곱검정 : X^2 통계량, p-value, df"
   ]
  },
  {
   "cell_type": "code",
   "execution_count": 161,
   "id": "052ed34e",
   "metadata": {},
   "outputs": [],
   "source": [
    "### Python 4.3 막대그림, 원그림, 겹친 막대그림\n",
    "\n",
    "import pandas as pd\n",
    "import matplotlib.pyplot as plt"
   ]
  },
  {
   "cell_type": "code",
   "execution_count": 165,
   "id": "e64e45c0",
   "metadata": {},
   "outputs": [
    {
     "data": {
      "text/html": [
       "<div>\n",
       "<style scoped>\n",
       "    .dataframe tbody tr th:only-of-type {\n",
       "        vertical-align: middle;\n",
       "    }\n",
       "\n",
       "    .dataframe tbody tr th {\n",
       "        vertical-align: top;\n",
       "    }\n",
       "\n",
       "    .dataframe thead th {\n",
       "        text-align: right;\n",
       "    }\n",
       "</style>\n",
       "<table border=\"1\" class=\"dataframe\">\n",
       "  <thead>\n",
       "    <tr style=\"text-align: right;\">\n",
       "      <th>Grade</th>\n",
       "      <th>count</th>\n",
       "    </tr>\n",
       "  </thead>\n",
       "  <tbody>\n",
       "    <tr>\n",
       "      <th>Gr1</th>\n",
       "      <td>103</td>\n",
       "    </tr>\n",
       "    <tr>\n",
       "      <th>Gr2</th>\n",
       "      <td>103</td>\n",
       "    </tr>\n",
       "    <tr>\n",
       "      <th>Gr3</th>\n",
       "      <td>100</td>\n",
       "    </tr>\n",
       "  </tbody>\n",
       "</table>\n",
       "</div>"
      ],
      "text/plain": [
       "Grade  count\n",
       "Gr1      103\n",
       "Gr2      103\n",
       "Gr3      100"
      ]
     },
     "execution_count": 165,
     "metadata": {},
     "output_type": "execute_result"
    }
   ],
   "source": [
    "enqete = pd.read_csv(\"C:\\\\data\\\\enqete.csv\")\n",
    "enqete_table = pd.crosstab(index=enqete[\"grade\"], colnames=[\"Grade\"], columns=\"count\")\n",
    "enqete_table.index = [\"Gr1\", \"Gr2\", \"Gr3\", \"Gr4\"]\n",
    "enqete_table.head(3)"
   ]
  },
  {
   "cell_type": "code",
   "execution_count": 166,
   "id": "08c99b7b",
   "metadata": {},
   "outputs": [
    {
     "data": {
      "text/plain": [
       "<BarContainer object of 4 artists>"
      ]
     },
     "execution_count": 166,
     "metadata": {},
     "output_type": "execute_result"
    },
    {
     "data": {
      "image/png": "[encoded data removed]",
      "text/plain": [
       "<Figure size 432x288 with 1 Axes>"
      ]
     },
     "metadata": {},
     "output_type": "display_data"
    }
   ],
   "source": [
    "# matplotlib를 이용한 바 그래프\n",
    "plt.bar(enqete_table.index, enqete_table[\"count\"])"
   ]
  },
  {
   "cell_type": "code",
   "execution_count": 169,
   "id": "1a2fe162",
   "metadata": {},
   "outputs": [
    {
     "data": {
      "text/plain": [
       "([<matplotlib.patches.Wedge at 0x1ac235805b0>,\n",
       "  <matplotlib.patches.Wedge at 0x1ac23580820>,\n",
       "  <matplotlib.patches.Wedge at 0x1ac235acfa0>,\n",
       "  <matplotlib.patches.Wedge at 0x1ac235ac760>],\n",
       " [Text(-0.795926740046034, 0.7592763821426907, 'Gr1'),\n",
       "  Text(-0.7209402440089244, -0.83080994491421, 'Gr2'),\n",
       "  Text(0.8475645040313471, -0.7011664649040888, 'Gr3'),\n",
       "  Text(0.7403138395114514, 0.8135941365495534, 'Gr4')])"
      ]
     },
     "execution_count": 169,
     "metadata": {},
     "output_type": "execute_result"
    },
    {
     "data": {
      "image/png": "[encoded data removed]",
      "text/plain": [
       "<Figure size 432x288 with 1 Axes>"
      ]
     },
     "metadata": {},
     "output_type": "display_data"
    }
   ],
   "source": [
    "# matplotlib를 이용한 파이 그래프\n",
    "plt.pie(enqete_table[\"count\"], labels=enqete_table.index, shadow=True, startangle=90)"
   ]
  },
  {
   "cell_type": "code",
   "execution_count": 171,
   "id": "aed4298b",
   "metadata": {},
   "outputs": [
    {
     "ename": "ValueError",
     "evalue": "Length mismatch: Expected axis has 4 elements, new values have 3 elements",
     "output_type": "error",
     "traceback": [
      "\u001b[1;31m---------------------------------------------------------------------------\u001b[0m",
      "\u001b[1;31mValueError\u001b[0m                                Traceback (most recent call last)",
      "Input \u001b[1;32mIn [171]\u001b[0m, in \u001b[0;36m<cell line: 3>\u001b[1;34m()\u001b[0m\n\u001b[0;32m      1\u001b[0m \u001b[38;5;66;03m# matplotlib를 이용한 겹침 바 그래프\u001b[39;00m\n\u001b[1;32m----> 3\u001b[0m grade_q1\u001b[38;5;241m.\u001b[39mindex \u001b[38;5;241m=\u001b[39m [\u001b[38;5;124m\"\u001b[39m\u001b[38;5;124mGr1\u001b[39m\u001b[38;5;124m\"\u001b[39m, \u001b[38;5;124m\"\u001b[39m\u001b[38;5;124mGr2\u001b[39m\u001b[38;5;124m\"\u001b[39m, \u001b[38;5;124m\"\u001b[39m\u001b[38;5;124mGr3\u001b[39m\u001b[38;5;124m\"\u001b[39m \u001b[38;5;124m\"\u001b[39m\u001b[38;5;124mGr4\u001b[39m\u001b[38;5;124m\"\u001b[39m]\n\u001b[0;32m      4\u001b[0m grade_q1\u001b[38;5;241m.\u001b[39mbar(stacked\u001b[38;5;241m=\u001b[39m\u001b[38;5;28;01mTrue\u001b[39;00m)\n\u001b[0;32m      5\u001b[0m plt\u001b[38;5;241m.\u001b[39mlegend(title\u001b[38;5;241m=\u001b[39m\u001b[38;5;124m\"\u001b[39m\u001b[38;5;124mQuestion1\u001b[39m\u001b[38;5;124m\"\u001b[39m)\n",
      "File \u001b[1;32m~\\anaconda3\\lib\\site-packages\\pandas\\core\\generic.py:5588\u001b[0m, in \u001b[0;36mNDFrame.__setattr__\u001b[1;34m(self, name, value)\u001b[0m\n\u001b[0;32m   5586\u001b[0m \u001b[38;5;28;01mtry\u001b[39;00m:\n\u001b[0;32m   5587\u001b[0m     \u001b[38;5;28mobject\u001b[39m\u001b[38;5;241m.\u001b[39m\u001b[38;5;21m__getattribute__\u001b[39m(\u001b[38;5;28mself\u001b[39m, name)\n\u001b[1;32m-> 5588\u001b[0m     \u001b[38;5;28;01mreturn\u001b[39;00m \u001b[38;5;28;43mobject\u001b[39;49m\u001b[38;5;241;43m.\u001b[39;49m\u001b[38;5;21;43m__setattr__\u001b[39;49m\u001b[43m(\u001b[49m\u001b[38;5;28;43mself\u001b[39;49m\u001b[43m,\u001b[49m\u001b[43m \u001b[49m\u001b[43mname\u001b[49m\u001b[43m,\u001b[49m\u001b[43m \u001b[49m\u001b[43mvalue\u001b[49m\u001b[43m)\u001b[49m\n\u001b[0;32m   5589\u001b[0m \u001b[38;5;28;01mexcept\u001b[39;00m \u001b[38;5;167;01mAttributeError\u001b[39;00m:\n\u001b[0;32m   5590\u001b[0m     \u001b[38;5;28;01mpass\u001b[39;00m\n",
      "File \u001b[1;32m~\\anaconda3\\lib\\site-packages\\pandas\\_libs\\properties.pyx:70\u001b[0m, in \u001b[0;36mpandas._libs.properties.AxisProperty.__set__\u001b[1;34m()\u001b[0m\n",
      "File \u001b[1;32m~\\anaconda3\\lib\\site-packages\\pandas\\core\\generic.py:769\u001b[0m, in \u001b[0;36mNDFrame._set_axis\u001b[1;34m(self, axis, labels)\u001b[0m\n\u001b[0;32m    767\u001b[0m \u001b[38;5;28;01mdef\u001b[39;00m \u001b[38;5;21m_set_axis\u001b[39m(\u001b[38;5;28mself\u001b[39m, axis: \u001b[38;5;28mint\u001b[39m, labels: Index) \u001b[38;5;241m-\u001b[39m\u001b[38;5;241m>\u001b[39m \u001b[38;5;28;01mNone\u001b[39;00m:\n\u001b[0;32m    768\u001b[0m     labels \u001b[38;5;241m=\u001b[39m ensure_index(labels)\n\u001b[1;32m--> 769\u001b[0m     \u001b[38;5;28;43mself\u001b[39;49m\u001b[38;5;241;43m.\u001b[39;49m\u001b[43m_mgr\u001b[49m\u001b[38;5;241;43m.\u001b[39;49m\u001b[43mset_axis\u001b[49m\u001b[43m(\u001b[49m\u001b[43maxis\u001b[49m\u001b[43m,\u001b[49m\u001b[43m \u001b[49m\u001b[43mlabels\u001b[49m\u001b[43m)\u001b[49m\n\u001b[0;32m    770\u001b[0m     \u001b[38;5;28mself\u001b[39m\u001b[38;5;241m.\u001b[39m_clear_item_cache()\n",
      "File \u001b[1;32m~\\anaconda3\\lib\\site-packages\\pandas\\core\\internals\\managers.py:214\u001b[0m, in \u001b[0;36mBaseBlockManager.set_axis\u001b[1;34m(self, axis, new_labels)\u001b[0m\n\u001b[0;32m    212\u001b[0m \u001b[38;5;28;01mdef\u001b[39;00m \u001b[38;5;21mset_axis\u001b[39m(\u001b[38;5;28mself\u001b[39m, axis: \u001b[38;5;28mint\u001b[39m, new_labels: Index) \u001b[38;5;241m-\u001b[39m\u001b[38;5;241m>\u001b[39m \u001b[38;5;28;01mNone\u001b[39;00m:\n\u001b[0;32m    213\u001b[0m     \u001b[38;5;66;03m# Caller is responsible for ensuring we have an Index object.\u001b[39;00m\n\u001b[1;32m--> 214\u001b[0m     \u001b[38;5;28;43mself\u001b[39;49m\u001b[38;5;241;43m.\u001b[39;49m\u001b[43m_validate_set_axis\u001b[49m\u001b[43m(\u001b[49m\u001b[43maxis\u001b[49m\u001b[43m,\u001b[49m\u001b[43m \u001b[49m\u001b[43mnew_labels\u001b[49m\u001b[43m)\u001b[49m\n\u001b[0;32m    215\u001b[0m     \u001b[38;5;28mself\u001b[39m\u001b[38;5;241m.\u001b[39maxes[axis] \u001b[38;5;241m=\u001b[39m new_labels\n",
      "File \u001b[1;32m~\\anaconda3\\lib\\site-packages\\pandas\\core\\internals\\base.py:69\u001b[0m, in \u001b[0;36mDataManager._validate_set_axis\u001b[1;34m(self, axis, new_labels)\u001b[0m\n\u001b[0;32m     66\u001b[0m     \u001b[38;5;28;01mpass\u001b[39;00m\n\u001b[0;32m     68\u001b[0m \u001b[38;5;28;01melif\u001b[39;00m new_len \u001b[38;5;241m!=\u001b[39m old_len:\n\u001b[1;32m---> 69\u001b[0m     \u001b[38;5;28;01mraise\u001b[39;00m \u001b[38;5;167;01mValueError\u001b[39;00m(\n\u001b[0;32m     70\u001b[0m         \u001b[38;5;124mf\u001b[39m\u001b[38;5;124m\"\u001b[39m\u001b[38;5;124mLength mismatch: Expected axis has \u001b[39m\u001b[38;5;132;01m{\u001b[39;00mold_len\u001b[38;5;132;01m}\u001b[39;00m\u001b[38;5;124m elements, new \u001b[39m\u001b[38;5;124m\"\u001b[39m\n\u001b[0;32m     71\u001b[0m         \u001b[38;5;124mf\u001b[39m\u001b[38;5;124m\"\u001b[39m\u001b[38;5;124mvalues have \u001b[39m\u001b[38;5;132;01m{\u001b[39;00mnew_len\u001b[38;5;132;01m}\u001b[39;00m\u001b[38;5;124m elements\u001b[39m\u001b[38;5;124m\"\u001b[39m\n\u001b[0;32m     72\u001b[0m     )\n",
      "\u001b[1;31mValueError\u001b[0m: Length mismatch: Expected axis has 4 elements, new values have 3 elements"
     ]
    }
   ],
   "source": [
    "# matplotlib를 이용한 겹침 바 그래프\n",
    "\n",
    "grade_q1.index = [\"Gr1\", \"Gr2\", \"Gr3\" \"Gr4\"]\n",
    "grade_q1.plo t.bar(stacked=True)\n",
    "plt.legend(title=\"Question1\")\n",
    "plt.show()"
   ]
  },
  {
   "cell_type": "code",
   "execution_count": 7,
   "id": "1ef8d4af",
   "metadata": {},
   "outputs": [
    {
     "data": {
      "text/html": [
       "<div>\n",
       "<style scoped>\n",
       "    .dataframe tbody tr th:only-of-type {\n",
       "        vertical-align: middle;\n",
       "    }\n",
       "\n",
       "    .dataframe tbody tr th {\n",
       "        vertical-align: top;\n",
       "    }\n",
       "\n",
       "    .dataframe thead th {\n",
       "        text-align: right;\n",
       "    }\n",
       "</style>\n",
       "<table border=\"1\" class=\"dataframe\">\n",
       "  <thead>\n",
       "    <tr style=\"text-align: right;\">\n",
       "      <th></th>\n",
       "      <th>major</th>\n",
       "      <th>midterm</th>\n",
       "      <th>final</th>\n",
       "    </tr>\n",
       "  </thead>\n",
       "  <tbody>\n",
       "    <tr>\n",
       "      <th>0</th>\n",
       "      <td>STAT</td>\n",
       "      <td>34</td>\n",
       "      <td>86</td>\n",
       "    </tr>\n",
       "    <tr>\n",
       "      <th>1</th>\n",
       "      <td>STAT</td>\n",
       "      <td>50</td>\n",
       "      <td>77</td>\n",
       "    </tr>\n",
       "    <tr>\n",
       "      <th>2</th>\n",
       "      <td>STAT</td>\n",
       "      <td>75</td>\n",
       "      <td>74</td>\n",
       "    </tr>\n",
       "    <tr>\n",
       "      <th>3</th>\n",
       "      <td>COMP</td>\n",
       "      <td>76</td>\n",
       "      <td>96</td>\n",
       "    </tr>\n",
       "    <tr>\n",
       "      <th>4</th>\n",
       "      <td>COMP</td>\n",
       "      <td>61</td>\n",
       "      <td>78</td>\n",
       "    </tr>\n",
       "    <tr>\n",
       "      <th>5</th>\n",
       "      <td>COMP</td>\n",
       "      <td>65</td>\n",
       "      <td>40</td>\n",
       "    </tr>\n",
       "    <tr>\n",
       "      <th>6</th>\n",
       "      <td>COMP</td>\n",
       "      <td>31</td>\n",
       "      <td>68</td>\n",
       "    </tr>\n",
       "    <tr>\n",
       "      <th>7</th>\n",
       "      <td>STAT</td>\n",
       "      <td>47</td>\n",
       "      <td>57</td>\n",
       "    </tr>\n",
       "    <tr>\n",
       "      <th>8</th>\n",
       "      <td>STAT</td>\n",
       "      <td>94</td>\n",
       "      <td>82</td>\n",
       "    </tr>\n",
       "    <tr>\n",
       "      <th>9</th>\n",
       "      <td>COMP</td>\n",
       "      <td>49</td>\n",
       "      <td>57</td>\n",
       "    </tr>\n",
       "  </tbody>\n",
       "</table>\n",
       "</div>"
      ],
      "text/plain": [
       "  major  midterm  final\n",
       "0  STAT       34     86\n",
       "1  STAT       50     77\n",
       "2  STAT       75     74\n",
       "3  COMP       76     96\n",
       "4  COMP       61     78\n",
       "5  COMP       65     40\n",
       "6  COMP       31     68\n",
       "7  STAT       47     57\n",
       "8  STAT       94     82\n",
       "9  COMP       49     57"
      ]
     },
     "execution_count": 7,
     "metadata": {},
     "output_type": "execute_result"
    }
   ],
   "source": [
    "# 교재 8장 연습문제 4번\n",
    "### statscore.csv 파일 불러오기\n",
    "import numpy as np\n",
    "import pandas as pd\n",
    "\n",
    "statscore = pd.read_csv(\"C:/data/statscore.csv\")\n",
    "statscore.head(10)"
   ]
  },
  {
   "cell_type": "code",
   "execution_count": 26,
   "id": "e69068b9",
   "metadata": {},
   "outputs": [
    {
     "data": {
      "text/html": [
       "<div>\n",
       "<style scoped>\n",
       "    .dataframe tbody tr th:only-of-type {\n",
       "        vertical-align: middle;\n",
       "    }\n",
       "\n",
       "    .dataframe tbody tr th {\n",
       "        vertical-align: top;\n",
       "    }\n",
       "\n",
       "    .dataframe thead th {\n",
       "        text-align: right;\n",
       "    }\n",
       "</style>\n",
       "<table border=\"1\" class=\"dataframe\">\n",
       "  <thead>\n",
       "    <tr style=\"text-align: right;\">\n",
       "      <th></th>\n",
       "      <th>midterm</th>\n",
       "      <th>final</th>\n",
       "    </tr>\n",
       "  </thead>\n",
       "  <tbody>\n",
       "    <tr>\n",
       "      <th>count</th>\n",
       "      <td>20.000000</td>\n",
       "      <td>20.000000</td>\n",
       "    </tr>\n",
       "    <tr>\n",
       "      <th>mean</th>\n",
       "      <td>65.150000</td>\n",
       "      <td>75.650000</td>\n",
       "    </tr>\n",
       "    <tr>\n",
       "      <th>std</th>\n",
       "      <td>19.647619</td>\n",
       "      <td>15.597824</td>\n",
       "    </tr>\n",
       "    <tr>\n",
       "      <th>min</th>\n",
       "      <td>31.000000</td>\n",
       "      <td>40.000000</td>\n",
       "    </tr>\n",
       "    <tr>\n",
       "      <th>25%</th>\n",
       "      <td>48.500000</td>\n",
       "      <td>66.000000</td>\n",
       "    </tr>\n",
       "    <tr>\n",
       "      <th>50%</th>\n",
       "      <td>67.500000</td>\n",
       "      <td>79.000000</td>\n",
       "    </tr>\n",
       "    <tr>\n",
       "      <th>75%</th>\n",
       "      <td>78.500000</td>\n",
       "      <td>85.250000</td>\n",
       "    </tr>\n",
       "    <tr>\n",
       "      <th>max</th>\n",
       "      <td>94.000000</td>\n",
       "      <td>96.000000</td>\n",
       "    </tr>\n",
       "  </tbody>\n",
       "</table>\n",
       "</div>"
      ],
      "text/plain": [
       "         midterm      final\n",
       "count  20.000000  20.000000\n",
       "mean   65.150000  75.650000\n",
       "std    19.647619  15.597824\n",
       "min    31.000000  40.000000\n",
       "25%    48.500000  66.000000\n",
       "50%    67.500000  79.000000\n",
       "75%    78.500000  85.250000\n",
       "max    94.000000  96.000000"
      ]
     },
     "execution_count": 26,
     "metadata": {},
     "output_type": "execute_result"
    }
   ],
   "source": [
    "### 중간고사, 기말고사 성적에 대한 기술통계량\n",
    "statscore.describe()"
   ]
  },
  {
   "cell_type": "code",
   "execution_count": 46,
   "id": "85cfab74",
   "metadata": {},
   "outputs": [
    {
     "data": {
      "text/html": [
       "<div>\n",
       "<style scoped>\n",
       "    .dataframe tbody tr th:only-of-type {\n",
       "        vertical-align: middle;\n",
       "    }\n",
       "\n",
       "    .dataframe tbody tr th {\n",
       "        vertical-align: top;\n",
       "    }\n",
       "\n",
       "    .dataframe thead th {\n",
       "        text-align: right;\n",
       "    }\n",
       "</style>\n",
       "<table border=\"1\" class=\"dataframe\">\n",
       "  <thead>\n",
       "    <tr style=\"text-align: right;\">\n",
       "      <th></th>\n",
       "      <th>count</th>\n",
       "      <th>mean</th>\n",
       "      <th>std</th>\n",
       "      <th>min</th>\n",
       "      <th>25%</th>\n",
       "      <th>50%</th>\n",
       "      <th>75%</th>\n",
       "      <th>max</th>\n",
       "    </tr>\n",
       "    <tr>\n",
       "      <th>major</th>\n",
       "      <th></th>\n",
       "      <th></th>\n",
       "      <th></th>\n",
       "      <th></th>\n",
       "      <th></th>\n",
       "      <th></th>\n",
       "      <th></th>\n",
       "      <th></th>\n",
       "    </tr>\n",
       "  </thead>\n",
       "  <tbody>\n",
       "    <tr>\n",
       "      <th>COMP</th>\n",
       "      <td>8.0</td>\n",
       "      <td>65.625000</td>\n",
       "      <td>18.423103</td>\n",
       "      <td>31.0</td>\n",
       "      <td>58.0</td>\n",
       "      <td>70.5</td>\n",
       "      <td>77.0</td>\n",
       "      <td>87.0</td>\n",
       "    </tr>\n",
       "    <tr>\n",
       "      <th>STAT</th>\n",
       "      <td>12.0</td>\n",
       "      <td>64.833333</td>\n",
       "      <td>21.225342</td>\n",
       "      <td>34.0</td>\n",
       "      <td>47.0</td>\n",
       "      <td>67.5</td>\n",
       "      <td>80.5</td>\n",
       "      <td>94.0</td>\n",
       "    </tr>\n",
       "  </tbody>\n",
       "</table>\n",
       "</div>"
      ],
      "text/plain": [
       "       count       mean        std   min   25%   50%   75%   max\n",
       "major                                                           \n",
       "COMP     8.0  65.625000  18.423103  31.0  58.0  70.5  77.0  87.0\n",
       "STAT    12.0  64.833333  21.225342  34.0  47.0  67.5  80.5  94.0"
      ]
     },
     "execution_count": 46,
     "metadata": {},
     "output_type": "execute_result"
    }
   ],
   "source": [
    "### 각 전공별 중간고사 기술통계량\n",
    "ss_mmd = statscore.groupby(\"major\")[\"midterm\"].describe()\n",
    "ss_mmd"
   ]
  },
  {
   "cell_type": "code",
   "execution_count": 45,
   "id": "b3150664",
   "metadata": {},
   "outputs": [
    {
     "data": {
      "text/html": [
       "<div>\n",
       "<style scoped>\n",
       "    .dataframe tbody tr th:only-of-type {\n",
       "        vertical-align: middle;\n",
       "    }\n",
       "\n",
       "    .dataframe tbody tr th {\n",
       "        vertical-align: top;\n",
       "    }\n",
       "\n",
       "    .dataframe thead th {\n",
       "        text-align: right;\n",
       "    }\n",
       "</style>\n",
       "<table border=\"1\" class=\"dataframe\">\n",
       "  <thead>\n",
       "    <tr style=\"text-align: right;\">\n",
       "      <th></th>\n",
       "      <th>count</th>\n",
       "      <th>mean</th>\n",
       "      <th>std</th>\n",
       "      <th>min</th>\n",
       "      <th>25%</th>\n",
       "      <th>50%</th>\n",
       "      <th>75%</th>\n",
       "      <th>max</th>\n",
       "    </tr>\n",
       "    <tr>\n",
       "      <th>major</th>\n",
       "      <th></th>\n",
       "      <th></th>\n",
       "      <th></th>\n",
       "      <th></th>\n",
       "      <th></th>\n",
       "      <th></th>\n",
       "      <th></th>\n",
       "      <th></th>\n",
       "    </tr>\n",
       "  </thead>\n",
       "  <tbody>\n",
       "    <tr>\n",
       "      <th>COMP</th>\n",
       "      <td>8.0</td>\n",
       "      <td>74.875000</td>\n",
       "      <td>18.795421</td>\n",
       "      <td>40.0</td>\n",
       "      <td>65.25</td>\n",
       "      <td>81.5</td>\n",
       "      <td>86.25</td>\n",
       "      <td>96.0</td>\n",
       "    </tr>\n",
       "    <tr>\n",
       "      <th>STAT</th>\n",
       "      <td>12.0</td>\n",
       "      <td>76.166667</td>\n",
       "      <td>13.953386</td>\n",
       "      <td>53.0</td>\n",
       "      <td>67.50</td>\n",
       "      <td>78.5</td>\n",
       "      <td>85.25</td>\n",
       "      <td>95.0</td>\n",
       "    </tr>\n",
       "  </tbody>\n",
       "</table>\n",
       "</div>"
      ],
      "text/plain": [
       "       count       mean        std   min    25%   50%    75%   max\n",
       "major                                                             \n",
       "COMP     8.0  74.875000  18.795421  40.0  65.25  81.5  86.25  96.0\n",
       "STAT    12.0  76.166667  13.953386  53.0  67.50  78.5  85.25  95.0"
      ]
     },
     "execution_count": 45,
     "metadata": {},
     "output_type": "execute_result"
    }
   ],
   "source": [
    "### 각 전공별 기말고사 기술통계량\n",
    "ss_mfd = statscore.groupby(\"major\")[\"final\"].describe()\n",
    "ss_mfd"
   ]
  },
  {
   "cell_type": "code",
   "execution_count": 66,
   "id": "1985c44a",
   "metadata": {},
   "outputs": [
    {
     "data": {
      "image/png": "[encoded data removed]",
      "text/plain": [
       "<Figure size 432x288 with 1 Axes>"
      ]
     },
     "metadata": {},
     "output_type": "display_data"
    }
   ],
   "source": [
    "### 각 전공별 중간고사 히스토그램\n",
    "import matplotlib.pyplot as plt\n",
    "import seaborn as sns\n",
    "\n",
    "### 각 전공별 중간고사, 기말고사 값 추출\n",
    "STAT_M = statscore.loc[statscore.major == \"STAT\", \"midterm\"]\n",
    "COMP_M = statscore.loc[statscore[\"major\"] == \"COMP\", \"midterm\"]\n",
    "STAT_F = statscore.loc[statscore.major == \"STAT\", \"final\"]\n",
    "COMP_F = statscore.loc[statscore[\"major\"] == \"COMP\", \"final\"]\n",
    "\n",
    "### 히스토그램 2개 겹쳐 그리기\n",
    "args = dict(alpha=0.5, bins=10)\n",
    "\n",
    "plt.hist(STAT_M, **args, color=\"b\", label=\"STAT_Midterm\")\n",
    "plt.hist(COMP_M, alpha=0.5, bins=10, color=\"r\", label=\"COMP_Midterm\")\n",
    "plt.gca().set(title='Midterm')\n",
    "plt.legend(loc=\"lower right\")\n",
    "plt.show()"
   ]
  },
  {
   "cell_type": "code",
   "execution_count": 67,
   "id": "f31dcb3f",
   "metadata": {},
   "outputs": [
    {
     "data": {
      "image/png": "[encoded data removed]",
      "text/plain": [
       "<Figure size 432x288 with 1 Axes>"
      ]
     },
     "metadata": {},
     "output_type": "display_data"
    }
   ],
   "source": [
    "### 각 전공별 기말고사 히스토그램\n",
    "\n",
    "### 히스토그램 2개 겹쳐 그리기\n",
    "args = dict(alpha=0.5, bins=10)\n",
    "\n",
    "plt.hist(STAT_F, **args, color=\"b\", label=\"STAT_Final\")\n",
    "plt.hist(COMP_F, alpha=0.5, bins=10, color=\"r\", label=\"COMP_Final\")\n",
    "plt.gca().set(title='Final')\n",
    "plt.legend(loc=\"lower right\")\n",
    "plt.show()"
   ]
  },
  {
   "cell_type": "code",
   "execution_count": 79,
   "id": "4101bf7b",
   "metadata": {},
   "outputs": [
    {
     "data": {
      "text/plain": [
       "Text(0.5, 1.0, 'COMP_Midterm')"
      ]
     },
     "execution_count": 79,
     "metadata": {},
     "output_type": "execute_result"
    },
    {
     "data": {
      "image/png": "[encoded data removed]",
      "text/plain": [
       "<Figure size 1080x720 with 2 Axes>"
      ]
     },
     "metadata": {},
     "output_type": "display_data"
    }
   ],
   "source": [
    "### 각 전공별 중간고사 상자 그림\n",
    "\n",
    "sns.set(style = \"darkgrid\")\n",
    "\n",
    "fig = plt.figure(figsize=(15,10))\n",
    "\n",
    "a1 = fig.add_subplot(1,2,1)\n",
    "a2 = fig.add_subplot(1,2,2)\n",
    "\n",
    "sns.boxplot(y=\"midterm\", data=statscore[statscore.major == \"STAT\"], ax=a1).set_title(\"STAT_Midterm\")\n",
    "sns.boxplot(y=\"midterm\", data=statscore[statscore.major == \"COMP\"], ax=a2).set_title(\"COMP_Midterm\")"
   ]
  },
  {
   "cell_type": "code",
   "execution_count": 80,
   "id": "f476ca22",
   "metadata": {},
   "outputs": [
    {
     "data": {
      "text/plain": [
       "Text(0.5, 1.0, 'COMP_Final')"
      ]
     },
     "execution_count": 80,
     "metadata": {},
     "output_type": "execute_result"
    },
    {
     "data": {
      "image/png": "[encoded data removed]",
      "text/plain": [
       "<Figure size 1080x720 with 2 Axes>"
      ]
     },
     "metadata": {},
     "output_type": "display_data"
    }
   ],
   "source": [
    "### 각 전공별 기말고사 상자 그림\n",
    "\n",
    "sns.set(style = \"whitegrid\")\n",
    "\n",
    "fig = plt.figure(figsize=(15,10))\n",
    "\n",
    "a1 = fig.add_subplot(1,2,1)\n",
    "a2 = fig.add_subplot(1,2,2)\n",
    "\n",
    "sns.boxplot(y=\"final\", data=statscore[statscore.major == \"STAT\"], ax=a1).set_title(\"STAT_Final\")\n",
    "sns.boxplot(y=\"final\", data=statscore[statscore.major == \"COMP\"], ax=a2).set_title(\"COMP_Final\")"
   ]
  },
  {
   "cell_type": "code",
   "execution_count": 83,
   "id": "cf5255cd",
   "metadata": {},
   "outputs": [
    {
     "data": {
      "text/plain": [
       "(<Figure size 540x162 with 1 Axes>, <Axes:>)"
      ]
     },
     "execution_count": 83,
     "metadata": {},
     "output_type": "execute_result"
    },
    {
     "data": {
      "image/png": "[encoded data removed]",
      "text/plain": [
       "<Figure size 540x180 with 1 Axes>"
      ]
     },
     "metadata": {},
     "output_type": "display_data"
    },
    {
     "data": {
      "image/png": "[encoded data removed]",
      "text/plain": [
       "<Figure size 540x162 with 1 Axes>"
      ]
     },
     "metadata": {},
     "output_type": "display_data"
    },
    {
     "data": {
      "image/png": "[encoded data removed]",
      "text/plain": [
       "<Figure size 540x144 with 1 Axes>"
      ]
     },
     "metadata": {},
     "output_type": "display_data"
    },
    {
     "data": {
      "image/png": "[encoded data removed]",
      "text/plain": [
       "<Figure size 540x162 with 1 Axes>"
      ]
     },
     "metadata": {},
     "output_type": "display_data"
    }
   ],
   "source": [
    "### 각 전공별 중간고사, 기말고사 줄기-잎 그림\n",
    "import stemgraphic\n",
    "\n",
    "stemgraphic.stem_graphic(STAT_M, scale=10)  # 중간고사 - STAT 과목\n",
    "stemgraphic.stem_graphic(COMP_M, scale=10)  # 중간고사 - COMP 과목\n",
    "stemgraphic.stem_graphic(STAT_F, scale=10)  # 기말고사 - STAT 과목\n",
    "stemgraphic.stem_graphic(COMP_F, scale=10)  # 기말고사 - COMP 과목"
   ]
  },
  {
   "cell_type": "code",
   "execution_count": null,
   "id": "04bbfe9d",
   "metadata": {},
   "outputs": [],
   "source": []
  }
 ],
 "metadata": {
  "kernelspec": {
   "display_name": "Python 3 (ipykernel)",
   "language": "python",
   "name": "python3"
  },
  "language_info": {
   "codemirror_mode": {
    "name": "ipython",
    "version": 3
   },
   "file_extension": ".py",
   "mimetype": "text/x-python",
   "name": "python",
   "nbconvert_exporter": "python",
   "pygments_lexer": "ipython3",
   "version": "3.9.12"
  }
 },
 "nbformat": 4,
 "nbformat_minor": 5
}
