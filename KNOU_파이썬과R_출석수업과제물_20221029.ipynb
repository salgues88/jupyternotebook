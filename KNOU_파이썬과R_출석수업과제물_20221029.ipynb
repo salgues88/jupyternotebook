{
 "cells": [
  {
   "cell_type": "code",
   "execution_count": 1,
   "id": "2ef67d55",
   "metadata": {},
   "outputs": [],
   "source": [
    "import numpy as np\n",
    "import pandas as pd"
   ]
  },
  {
   "cell_type": "code",
   "execution_count": null,
   "id": "80bbfdab",
   "metadata": {},
   "outputs": [],
   "source": [
    "# 교재 3장\n",
    "### 1번. R을 사용하여 "
   ]
  }
 ],
 "metadata": {
  "kernelspec": {
   "display_name": "Python 3 (ipykernel)",
   "language": "python",
   "name": "python3"
  },
  "language_info": {
   "codemirror_mode": {
    "name": "ipython",
    "version": 3
   },
   "file_extension": ".py",
   "mimetype": "text/x-python",
   "name": "python",
   "nbconvert_exporter": "python",
   "pygments_lexer": "ipython3",
   "version": "3.9.12"
  }
 },
 "nbformat": 4,
 "nbformat_minor": 5
}
